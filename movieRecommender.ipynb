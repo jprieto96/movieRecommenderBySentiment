{
 "metadata": {
  "language_info": {
   "codemirror_mode": {
    "name": "ipython",
    "version": 3
   },
   "file_extension": ".py",
   "mimetype": "text/x-python",
   "name": "python",
   "nbconvert_exporter": "python",
   "pygments_lexer": "ipython3",
   "version": "3.8.5"
  },
  "orig_nbformat": 2,
  "kernelspec": {
   "name": "python385jvsc74a57bd002c1bc312be71ff1f2703cb91642fe6b30cb9b81b9fcce8400b93b046ac5025b",
   "display_name": "Python 3.8.5 64-bit ('platzi_data': conda)"
  }
 },
 "nbformat": 4,
 "nbformat_minor": 2,
 "cells": [
  {
   "source": [
    "## Importamos librerias y se carga el CSV de las peliculas que luego procedermos a recomendar"
   ],
   "cell_type": "markdown",
   "metadata": {}
  },
  {
   "cell_type": "code",
   "execution_count": 120,
   "metadata": {},
   "outputs": [
    {
     "output_type": "stream",
     "name": "stderr",
     "text": [
      "C:\\Users\\Jose\\anaconda3\\envs\\platzi_data\\lib\\site-packages\\pandas\\io\\parsers.py:755: ParserWarning: Falling back to the 'python' engine because the 'c' engine does not support regex separators (separators > 1 char and different from '\\s+' are interpreted as regex); you can avoid this warning by specifying engine='python'.\n  return read_csv(**locals())\n"
     ]
    },
    {
     "output_type": "execute_result",
     "data": {
      "text/plain": [
       "   movie_id                         movie_title                   movie_genre\n",
       "0         1                    Toy Story (1995)   Animation|Children's|Comedy\n",
       "1         2                      Jumanji (1995)  Adventure|Children's|Fantasy\n",
       "2         3             Grumpier Old Men (1995)                Comedy|Romance\n",
       "3         4            Waiting to Exhale (1995)                  Comedy|Drama\n",
       "4         5  Father of the Bride Part II (1995)                        Comedy"
      ],
      "text/html": "<div>\n<style scoped>\n    .dataframe tbody tr th:only-of-type {\n        vertical-align: middle;\n    }\n\n    .dataframe tbody tr th {\n        vertical-align: top;\n    }\n\n    .dataframe thead th {\n        text-align: right;\n    }\n</style>\n<table border=\"1\" class=\"dataframe\">\n  <thead>\n    <tr style=\"text-align: right;\">\n      <th></th>\n      <th>movie_id</th>\n      <th>movie_title</th>\n      <th>movie_genre</th>\n    </tr>\n  </thead>\n  <tbody>\n    <tr>\n      <th>0</th>\n      <td>1</td>\n      <td>Toy Story (1995)</td>\n      <td>Animation|Children's|Comedy</td>\n    </tr>\n    <tr>\n      <th>1</th>\n      <td>2</td>\n      <td>Jumanji (1995)</td>\n      <td>Adventure|Children's|Fantasy</td>\n    </tr>\n    <tr>\n      <th>2</th>\n      <td>3</td>\n      <td>Grumpier Old Men (1995)</td>\n      <td>Comedy|Romance</td>\n    </tr>\n    <tr>\n      <th>3</th>\n      <td>4</td>\n      <td>Waiting to Exhale (1995)</td>\n      <td>Comedy|Drama</td>\n    </tr>\n    <tr>\n      <th>4</th>\n      <td>5</td>\n      <td>Father of the Bride Part II (1995)</td>\n      <td>Comedy</td>\n    </tr>\n  </tbody>\n</table>\n</div>"
     },
     "metadata": {},
     "execution_count": 120
    }
   ],
   "source": [
    "import pandas as pd\n",
    "import numpy as np\n",
    "movies_df = pd.read_table('movies.dat', header=None, sep='::', names=['movie_id', 'movie_title', 'movie_genre'])\n",
    "movies_df.head()"
   ]
  },
  {
   "source": [
    "### Cargar el CSV con el que sabemos el sentimiento del usuario para despues proceder a la recomendación de la película"
   ],
   "cell_type": "markdown",
   "metadata": {}
  },
  {
   "cell_type": "code",
   "execution_count": 121,
   "metadata": {},
   "outputs": [
    {
     "output_type": "execute_result",
     "data": {
      "text/plain": [
       "               user_id user_name    status\n",
       "0  1394615213199081475   MinPrac  positive"
      ],
      "text/html": "<div>\n<style scoped>\n    .dataframe tbody tr th:only-of-type {\n        vertical-align: middle;\n    }\n\n    .dataframe tbody tr th {\n        vertical-align: top;\n    }\n\n    .dataframe thead th {\n        text-align: right;\n    }\n</style>\n<table border=\"1\" class=\"dataframe\">\n  <thead>\n    <tr style=\"text-align: right;\">\n      <th></th>\n      <th>user_id</th>\n      <th>user_name</th>\n      <th>status</th>\n    </tr>\n  </thead>\n  <tbody>\n    <tr>\n      <th>0</th>\n      <td>1394615213199081475</td>\n      <td>MinPrac</td>\n      <td>positive</td>\n    </tr>\n  </tbody>\n</table>\n</div>"
     },
     "metadata": {},
     "execution_count": 121
    }
   ],
   "source": [
    "sentiment_df = pd.read_csv('userSentiment.csv')\n",
    "user = sentiment_df['user_name'][0]\n",
    "sentiment_df"
   ]
  },
  {
   "source": [
    "### Modificación del dataset\n",
    "Se añaden columnas al dataset con cada uno de los géneros, dónde un 0 indica que si tiene ese género y un 1 que si es de ese género"
   ],
   "cell_type": "markdown",
   "metadata": {}
  },
  {
   "cell_type": "code",
   "execution_count": 122,
   "metadata": {},
   "outputs": [
    {
     "output_type": "execute_result",
     "data": {
      "text/plain": [
       "   movie_id                         movie_title                   movie_genre  \\\n",
       "0         1                    Toy Story (1995)   Animation|Children's|Comedy   \n",
       "1         2                      Jumanji (1995)  Adventure|Children's|Fantasy   \n",
       "2         3             Grumpier Old Men (1995)                Comedy|Romance   \n",
       "3         4            Waiting to Exhale (1995)                  Comedy|Drama   \n",
       "4         5  Father of the Bride Part II (1995)                        Comedy   \n",
       "\n",
       "   Action  Adventure  Animation  Children's  Comedy  Crime  Documentary  ...  \\\n",
       "0       0          0          1           1       1      0            0  ...   \n",
       "1       0          1          0           1       0      0            0  ...   \n",
       "2       0          0          0           0       1      0            0  ...   \n",
       "3       0          0          0           0       1      0            0  ...   \n",
       "4       0          0          0           0       1      0            0  ...   \n",
       "\n",
       "   Fantasy  Film-Noir  Horror  Musical  Mystery  Romance  Sci-Fi  Thriller  \\\n",
       "0        0          0       0        0        0        0       0         0   \n",
       "1        1          0       0        0        0        0       0         0   \n",
       "2        0          0       0        0        0        1       0         0   \n",
       "3        0          0       0        0        0        0       0         0   \n",
       "4        0          0       0        0        0        0       0         0   \n",
       "\n",
       "   War  Western  \n",
       "0    0        0  \n",
       "1    0        0  \n",
       "2    0        0  \n",
       "3    0        0  \n",
       "4    0        0  \n",
       "\n",
       "[5 rows x 21 columns]"
      ],
      "text/html": "<div>\n<style scoped>\n    .dataframe tbody tr th:only-of-type {\n        vertical-align: middle;\n    }\n\n    .dataframe tbody tr th {\n        vertical-align: top;\n    }\n\n    .dataframe thead th {\n        text-align: right;\n    }\n</style>\n<table border=\"1\" class=\"dataframe\">\n  <thead>\n    <tr style=\"text-align: right;\">\n      <th></th>\n      <th>movie_id</th>\n      <th>movie_title</th>\n      <th>movie_genre</th>\n      <th>Action</th>\n      <th>Adventure</th>\n      <th>Animation</th>\n      <th>Children's</th>\n      <th>Comedy</th>\n      <th>Crime</th>\n      <th>Documentary</th>\n      <th>...</th>\n      <th>Fantasy</th>\n      <th>Film-Noir</th>\n      <th>Horror</th>\n      <th>Musical</th>\n      <th>Mystery</th>\n      <th>Romance</th>\n      <th>Sci-Fi</th>\n      <th>Thriller</th>\n      <th>War</th>\n      <th>Western</th>\n    </tr>\n  </thead>\n  <tbody>\n    <tr>\n      <th>0</th>\n      <td>1</td>\n      <td>Toy Story (1995)</td>\n      <td>Animation|Children's|Comedy</td>\n      <td>0</td>\n      <td>0</td>\n      <td>1</td>\n      <td>1</td>\n      <td>1</td>\n      <td>0</td>\n      <td>0</td>\n      <td>...</td>\n      <td>0</td>\n      <td>0</td>\n      <td>0</td>\n      <td>0</td>\n      <td>0</td>\n      <td>0</td>\n      <td>0</td>\n      <td>0</td>\n      <td>0</td>\n      <td>0</td>\n    </tr>\n    <tr>\n      <th>1</th>\n      <td>2</td>\n      <td>Jumanji (1995)</td>\n      <td>Adventure|Children's|Fantasy</td>\n      <td>0</td>\n      <td>1</td>\n      <td>0</td>\n      <td>1</td>\n      <td>0</td>\n      <td>0</td>\n      <td>0</td>\n      <td>...</td>\n      <td>1</td>\n      <td>0</td>\n      <td>0</td>\n      <td>0</td>\n      <td>0</td>\n      <td>0</td>\n      <td>0</td>\n      <td>0</td>\n      <td>0</td>\n      <td>0</td>\n    </tr>\n    <tr>\n      <th>2</th>\n      <td>3</td>\n      <td>Grumpier Old Men (1995)</td>\n      <td>Comedy|Romance</td>\n      <td>0</td>\n      <td>0</td>\n      <td>0</td>\n      <td>0</td>\n      <td>1</td>\n      <td>0</td>\n      <td>0</td>\n      <td>...</td>\n      <td>0</td>\n      <td>0</td>\n      <td>0</td>\n      <td>0</td>\n      <td>0</td>\n      <td>1</td>\n      <td>0</td>\n      <td>0</td>\n      <td>0</td>\n      <td>0</td>\n    </tr>\n    <tr>\n      <th>3</th>\n      <td>4</td>\n      <td>Waiting to Exhale (1995)</td>\n      <td>Comedy|Drama</td>\n      <td>0</td>\n      <td>0</td>\n      <td>0</td>\n      <td>0</td>\n      <td>1</td>\n      <td>0</td>\n      <td>0</td>\n      <td>...</td>\n      <td>0</td>\n      <td>0</td>\n      <td>0</td>\n      <td>0</td>\n      <td>0</td>\n      <td>0</td>\n      <td>0</td>\n      <td>0</td>\n      <td>0</td>\n      <td>0</td>\n    </tr>\n    <tr>\n      <th>4</th>\n      <td>5</td>\n      <td>Father of the Bride Part II (1995)</td>\n      <td>Comedy</td>\n      <td>0</td>\n      <td>0</td>\n      <td>0</td>\n      <td>0</td>\n      <td>1</td>\n      <td>0</td>\n      <td>0</td>\n      <td>...</td>\n      <td>0</td>\n      <td>0</td>\n      <td>0</td>\n      <td>0</td>\n      <td>0</td>\n      <td>0</td>\n      <td>0</td>\n      <td>0</td>\n      <td>0</td>\n      <td>0</td>\n    </tr>\n  </tbody>\n</table>\n<p>5 rows × 21 columns</p>\n</div>"
     },
     "metadata": {},
     "execution_count": 122
    }
   ],
   "source": [
    "# we convert the movie genres to a set of dummy variables\n",
    "movies_df = pd.concat([movies_df, movies_df.movie_genre.str.get_dummies(sep='|')], axis=1)\n",
    "movies_df.head()"
   ]
  },
  {
   "cell_type": "code",
   "execution_count": 123,
   "metadata": {},
   "outputs": [
    {
     "output_type": "execute_result",
     "data": {
      "text/plain": [
       "movie_id                                 1\n",
       "movie_title               Toy Story (1995)\n",
       "movie_genre    Animation|Children's|Comedy\n",
       "Action                                   0\n",
       "Adventure                                0\n",
       "Animation                                1\n",
       "Children's                               1\n",
       "Comedy                                   1\n",
       "Crime                                    0\n",
       "Documentary                              0\n",
       "Drama                                    0\n",
       "Fantasy                                  0\n",
       "Film-Noir                                0\n",
       "Horror                                   0\n",
       "Musical                                  0\n",
       "Mystery                                  0\n",
       "Romance                                  0\n",
       "Sci-Fi                                   0\n",
       "Thriller                                 0\n",
       "War                                      0\n",
       "Western                                  0\n",
       "Name: 0, dtype: object"
      ]
     },
     "metadata": {},
     "execution_count": 123
    }
   ],
   "source": [
    "movie_categories = movies_df.columns[3:]\n",
    "movies_df.loc[0]"
   ]
  },
  {
   "source": [
    "### Se añade puntuación a los generos segun el estado de ánimo del usuario"
   ],
   "cell_type": "markdown",
   "metadata": {}
  },
  {
   "cell_type": "code",
   "execution_count": 124,
   "metadata": {},
   "outputs": [],
   "source": [
    "from collections import OrderedDict\n",
    "user_preferences = OrderedDict(zip(movie_categories, []))\n",
    "status = sentiment_df.loc[0]['status']\n",
    "if(status == 'positive'):\n",
    "    user_preferences['Action'] = 1\n",
    "    user_preferences['Adventure'] = 5\n",
    "    user_preferences['Animation'] = 1\n",
    "    user_preferences[\"Children's\"] = 1\n",
    "    user_preferences[\"Comedy\"] = 15\n",
    "    user_preferences['Crime'] = -5\n",
    "    user_preferences['Documentary'] = 0\n",
    "    user_preferences['Drama'] = -5\n",
    "    user_preferences['Fantasy'] = 5\n",
    "    user_preferences['Film-Noir'] = 0\n",
    "    user_preferences['Horror'] = -2\n",
    "    user_preferences['Musical'] = 1\n",
    "    user_preferences['Mystery'] = -2\n",
    "    user_preferences['Romance'] = 2\n",
    "    user_preferences['Sci-Fi'] = -2\n",
    "    user_preferences['War'] = -5\n",
    "    user_preferences['Thriller'] = -5\n",
    "    user_preferences['Western'] = 0\n",
    "else:\n",
    "    user_preferences['Action'] = 0\n",
    "    user_preferences['Adventure'] = -2\n",
    "    user_preferences['Animation'] = -2\n",
    "    user_preferences[\"Children's\"] = -2\n",
    "    user_preferences[\"Comedy\"] = -5\n",
    "    user_preferences['Crime'] = 2\n",
    "    user_preferences['Documentary'] = -5\n",
    "    user_preferences['Drama'] = 15\n",
    "    user_preferences['Fantasy'] = -5\n",
    "    user_preferences['Film-Noir'] = 1\n",
    "    user_preferences['Horror'] = 2\n",
    "    user_preferences['Musical'] = -5\n",
    "    user_preferences['Mystery'] = 3\n",
    "    user_preferences['Romance'] = 1\n",
    "    user_preferences['Sci-Fi'] = 5\n",
    "    user_preferences['War'] = 3\n",
    "    user_preferences['Thriller'] = 2\n",
    "    user_preferences['Western'] =1  \n"
   ]
  },
  {
   "cell_type": "code",
   "execution_count": 125,
   "metadata": {},
   "outputs": [],
   "source": [
    "def dot_product(vector_1, vector_2):\n",
    "    return sum([ i*j for i,j in zip(vector_1, vector_2)])\n",
    "def get_movie_score(movie_features, user_preferences):\n",
    "    return dot_product(movie_features, user_preferences)"
   ]
  },
  {
   "cell_type": "code",
   "execution_count": 126,
   "metadata": {},
   "outputs": [
    {
     "output_type": "execute_result",
     "data": {
      "text/plain": [
       "Action         0\n",
       "Adventure      0\n",
       "Animation      1\n",
       "Children's     1\n",
       "Comedy         1\n",
       "Crime          0\n",
       "Documentary    0\n",
       "Drama          0\n",
       "Fantasy        0\n",
       "Film-Noir      0\n",
       "Horror         0\n",
       "Musical        0\n",
       "Mystery        0\n",
       "Romance        0\n",
       "Sci-Fi         0\n",
       "Thriller       0\n",
       "War            0\n",
       "Western        0\n",
       "Name: 0, dtype: object"
      ]
     },
     "metadata": {},
     "execution_count": 126
    }
   ],
   "source": [
    "toy_story_features = movies_df.loc[0][movie_categories]\n",
    "toy_story_features"
   ]
  },
  {
   "cell_type": "code",
   "execution_count": 127,
   "metadata": {},
   "outputs": [
    {
     "output_type": "execute_result",
     "data": {
      "text/plain": [
       "17"
      ]
     },
     "metadata": {},
     "execution_count": 127
    }
   ],
   "source": [
    "toy_story_user_predicted_score = dot_product(toy_story_features, user_preferences.values())\n",
    "toy_story_user_predicted_score"
   ]
  },
  {
   "cell_type": "code",
   "execution_count": 128,
   "metadata": {},
   "outputs": [
    {
     "output_type": "execute_result",
     "data": {
      "text/plain": [
       "      movie_id                        movie_title      movie_genre  Action  \\\n",
       "163        165  Die Hard: With a Vengeance (1995)  Action|Thriller       1   \n",
       "1023      1036                    Die Hard (1988)  Action|Thriller       1   \n",
       "1349      1370                  Die Hard 2 (1990)  Action|Thriller       1   \n",
       "\n",
       "      Adventure  Animation  Children's  Comedy  Crime  Documentary  ...  \\\n",
       "163           0          0           0       0      0            0  ...   \n",
       "1023          0          0           0       0      0            0  ...   \n",
       "1349          0          0           0       0      0            0  ...   \n",
       "\n",
       "      Fantasy  Film-Noir  Horror  Musical  Mystery  Romance  Sci-Fi  Thriller  \\\n",
       "163         0          0       0        0        0        0       0         1   \n",
       "1023        0          0       0        0        0        0       0         1   \n",
       "1349        0          0       0        0        0        0       0         1   \n",
       "\n",
       "      War  Western  \n",
       "163     0        0  \n",
       "1023    0        0  \n",
       "1349    0        0  \n",
       "\n",
       "[3 rows x 21 columns]"
      ],
      "text/html": "<div>\n<style scoped>\n    .dataframe tbody tr th:only-of-type {\n        vertical-align: middle;\n    }\n\n    .dataframe tbody tr th {\n        vertical-align: top;\n    }\n\n    .dataframe thead th {\n        text-align: right;\n    }\n</style>\n<table border=\"1\" class=\"dataframe\">\n  <thead>\n    <tr style=\"text-align: right;\">\n      <th></th>\n      <th>movie_id</th>\n      <th>movie_title</th>\n      <th>movie_genre</th>\n      <th>Action</th>\n      <th>Adventure</th>\n      <th>Animation</th>\n      <th>Children's</th>\n      <th>Comedy</th>\n      <th>Crime</th>\n      <th>Documentary</th>\n      <th>...</th>\n      <th>Fantasy</th>\n      <th>Film-Noir</th>\n      <th>Horror</th>\n      <th>Musical</th>\n      <th>Mystery</th>\n      <th>Romance</th>\n      <th>Sci-Fi</th>\n      <th>Thriller</th>\n      <th>War</th>\n      <th>Western</th>\n    </tr>\n  </thead>\n  <tbody>\n    <tr>\n      <th>163</th>\n      <td>165</td>\n      <td>Die Hard: With a Vengeance (1995)</td>\n      <td>Action|Thriller</td>\n      <td>1</td>\n      <td>0</td>\n      <td>0</td>\n      <td>0</td>\n      <td>0</td>\n      <td>0</td>\n      <td>0</td>\n      <td>...</td>\n      <td>0</td>\n      <td>0</td>\n      <td>0</td>\n      <td>0</td>\n      <td>0</td>\n      <td>0</td>\n      <td>0</td>\n      <td>1</td>\n      <td>0</td>\n      <td>0</td>\n    </tr>\n    <tr>\n      <th>1023</th>\n      <td>1036</td>\n      <td>Die Hard (1988)</td>\n      <td>Action|Thriller</td>\n      <td>1</td>\n      <td>0</td>\n      <td>0</td>\n      <td>0</td>\n      <td>0</td>\n      <td>0</td>\n      <td>0</td>\n      <td>...</td>\n      <td>0</td>\n      <td>0</td>\n      <td>0</td>\n      <td>0</td>\n      <td>0</td>\n      <td>0</td>\n      <td>0</td>\n      <td>1</td>\n      <td>0</td>\n      <td>0</td>\n    </tr>\n    <tr>\n      <th>1349</th>\n      <td>1370</td>\n      <td>Die Hard 2 (1990)</td>\n      <td>Action|Thriller</td>\n      <td>1</td>\n      <td>0</td>\n      <td>0</td>\n      <td>0</td>\n      <td>0</td>\n      <td>0</td>\n      <td>0</td>\n      <td>...</td>\n      <td>0</td>\n      <td>0</td>\n      <td>0</td>\n      <td>0</td>\n      <td>0</td>\n      <td>0</td>\n      <td>0</td>\n      <td>1</td>\n      <td>0</td>\n      <td>0</td>\n    </tr>\n  </tbody>\n</table>\n<p>3 rows × 21 columns</p>\n</div>"
     },
     "metadata": {},
     "execution_count": 128
    }
   ],
   "source": [
    "movies_df[movies_df.movie_title.str.contains('Die Hard')]"
   ]
  },
  {
   "cell_type": "code",
   "execution_count": 129,
   "metadata": {},
   "outputs": [
    {
     "output_type": "execute_result",
     "data": {
      "text/plain": [
       "             1023\n",
       "Action          1\n",
       "Adventure       0\n",
       "Animation       0\n",
       "Children's      0\n",
       "Comedy          0\n",
       "Crime           0\n",
       "Documentary     0\n",
       "Drama           0\n",
       "Fantasy         0\n",
       "Film-Noir       0\n",
       "Horror          0\n",
       "Musical         0\n",
       "Mystery         0\n",
       "Romance         0\n",
       "Sci-Fi          0\n",
       "Thriller        1\n",
       "War             0\n",
       "Western         0"
      ],
      "text/html": "<div>\n<style scoped>\n    .dataframe tbody tr th:only-of-type {\n        vertical-align: middle;\n    }\n\n    .dataframe tbody tr th {\n        vertical-align: top;\n    }\n\n    .dataframe thead th {\n        text-align: right;\n    }\n</style>\n<table border=\"1\" class=\"dataframe\">\n  <thead>\n    <tr style=\"text-align: right;\">\n      <th></th>\n      <th>1023</th>\n    </tr>\n  </thead>\n  <tbody>\n    <tr>\n      <th>Action</th>\n      <td>1</td>\n    </tr>\n    <tr>\n      <th>Adventure</th>\n      <td>0</td>\n    </tr>\n    <tr>\n      <th>Animation</th>\n      <td>0</td>\n    </tr>\n    <tr>\n      <th>Children's</th>\n      <td>0</td>\n    </tr>\n    <tr>\n      <th>Comedy</th>\n      <td>0</td>\n    </tr>\n    <tr>\n      <th>Crime</th>\n      <td>0</td>\n    </tr>\n    <tr>\n      <th>Documentary</th>\n      <td>0</td>\n    </tr>\n    <tr>\n      <th>Drama</th>\n      <td>0</td>\n    </tr>\n    <tr>\n      <th>Fantasy</th>\n      <td>0</td>\n    </tr>\n    <tr>\n      <th>Film-Noir</th>\n      <td>0</td>\n    </tr>\n    <tr>\n      <th>Horror</th>\n      <td>0</td>\n    </tr>\n    <tr>\n      <th>Musical</th>\n      <td>0</td>\n    </tr>\n    <tr>\n      <th>Mystery</th>\n      <td>0</td>\n    </tr>\n    <tr>\n      <th>Romance</th>\n      <td>0</td>\n    </tr>\n    <tr>\n      <th>Sci-Fi</th>\n      <td>0</td>\n    </tr>\n    <tr>\n      <th>Thriller</th>\n      <td>1</td>\n    </tr>\n    <tr>\n      <th>War</th>\n      <td>0</td>\n    </tr>\n    <tr>\n      <th>Western</th>\n      <td>0</td>\n    </tr>\n  </tbody>\n</table>\n</div>"
     },
     "metadata": {},
     "execution_count": 129
    }
   ],
   "source": [
    "die_hard_id = 1036\n",
    "die_hard_features = movies_df[movies_df.movie_id==die_hard_id][movie_categories]\n",
    "die_hard_features.T"
   ]
  },
  {
   "cell_type": "code",
   "execution_count": 130,
   "metadata": {},
   "outputs": [
    {
     "output_type": "execute_result",
     "data": {
      "text/plain": [
       "-4"
      ]
     },
     "metadata": {},
     "execution_count": 130
    }
   ],
   "source": [
    "die_hard_user_predicted_score = dot_product(die_hard_features.values[0], user_preferences.values())\n",
    "die_hard_user_predicted_score"
   ]
  },
  {
   "source": [
    "### Se recomiendan las 10 mejores películas para las preferencias del usuario"
   ],
   "cell_type": "markdown",
   "metadata": {}
  },
  {
   "cell_type": "code",
   "execution_count": 131,
   "metadata": {},
   "outputs": [
    {
     "output_type": "stream",
     "name": "stdout",
     "text": [
      "Best 10 recommendations for MinPrac:\n"
     ]
    },
    {
     "output_type": "execute_result",
     "data": {
      "text/plain": [
       "                                       movie_title  \\\n",
       "255           Kid in King Arthur's Court, A (1995)   \n",
       "667                               Space Jam (1996)   \n",
       "1779                         Borrowers, The (1997)   \n",
       "1058  Willy Wonka and the Chocolate Factory (1971)   \n",
       "1985               Honey, I Shrunk the Kids (1989)   \n",
       "376                               True Lies (1994)   \n",
       "2337                    Romancing the Stone (1984)   \n",
       "1179                    Princess Bride, The (1987)   \n",
       "1526                               Hercules (1997)   \n",
       "2336                 Jewel of the Nile, The (1985)   \n",
       "\n",
       "                                        movie_genre  score  \n",
       "255     Adventure|Children's|Comedy|Fantasy|Romance     28  \n",
       "667   Adventure|Animation|Children's|Comedy|Fantasy     27  \n",
       "1779            Adventure|Children's|Comedy|Fantasy     26  \n",
       "1058            Adventure|Children's|Comedy|Fantasy     26  \n",
       "1985     Adventure|Children's|Comedy|Fantasy|Sci-Fi     24  \n",
       "376                 Action|Adventure|Comedy|Romance     23  \n",
       "2337                Action|Adventure|Comedy|Romance     23  \n",
       "1179                Action|Adventure|Comedy|Romance     23  \n",
       "1526  Adventure|Animation|Children's|Comedy|Musical     23  \n",
       "2336                Action|Adventure|Comedy|Romance     23  "
      ],
      "text/html": "<div>\n<style scoped>\n    .dataframe tbody tr th:only-of-type {\n        vertical-align: middle;\n    }\n\n    .dataframe tbody tr th {\n        vertical-align: top;\n    }\n\n    .dataframe thead th {\n        text-align: right;\n    }\n</style>\n<table border=\"1\" class=\"dataframe\">\n  <thead>\n    <tr style=\"text-align: right;\">\n      <th></th>\n      <th>movie_title</th>\n      <th>movie_genre</th>\n      <th>score</th>\n    </tr>\n  </thead>\n  <tbody>\n    <tr>\n      <th>255</th>\n      <td>Kid in King Arthur's Court, A (1995)</td>\n      <td>Adventure|Children's|Comedy|Fantasy|Romance</td>\n      <td>28</td>\n    </tr>\n    <tr>\n      <th>667</th>\n      <td>Space Jam (1996)</td>\n      <td>Adventure|Animation|Children's|Comedy|Fantasy</td>\n      <td>27</td>\n    </tr>\n    <tr>\n      <th>1779</th>\n      <td>Borrowers, The (1997)</td>\n      <td>Adventure|Children's|Comedy|Fantasy</td>\n      <td>26</td>\n    </tr>\n    <tr>\n      <th>1058</th>\n      <td>Willy Wonka and the Chocolate Factory (1971)</td>\n      <td>Adventure|Children's|Comedy|Fantasy</td>\n      <td>26</td>\n    </tr>\n    <tr>\n      <th>1985</th>\n      <td>Honey, I Shrunk the Kids (1989)</td>\n      <td>Adventure|Children's|Comedy|Fantasy|Sci-Fi</td>\n      <td>24</td>\n    </tr>\n    <tr>\n      <th>376</th>\n      <td>True Lies (1994)</td>\n      <td>Action|Adventure|Comedy|Romance</td>\n      <td>23</td>\n    </tr>\n    <tr>\n      <th>2337</th>\n      <td>Romancing the Stone (1984)</td>\n      <td>Action|Adventure|Comedy|Romance</td>\n      <td>23</td>\n    </tr>\n    <tr>\n      <th>1179</th>\n      <td>Princess Bride, The (1987)</td>\n      <td>Action|Adventure|Comedy|Romance</td>\n      <td>23</td>\n    </tr>\n    <tr>\n      <th>1526</th>\n      <td>Hercules (1997)</td>\n      <td>Adventure|Animation|Children's|Comedy|Musical</td>\n      <td>23</td>\n    </tr>\n    <tr>\n      <th>2336</th>\n      <td>Jewel of the Nile, The (1985)</td>\n      <td>Action|Adventure|Comedy|Romance</td>\n      <td>23</td>\n    </tr>\n  </tbody>\n</table>\n</div>"
     },
     "metadata": {},
     "execution_count": 131
    }
   ],
   "source": [
    "def get_movie_recommendations(user_preferences, n_recommendations):\n",
    "    #we add a column to the movies_df dataset with the calculated score for each movie for the given user\n",
    "    movies_df['score'] = movies_df[movie_categories].apply(get_movie_score,\n",
    "                                                           args=([user_preferences.values()]), axis=1)\n",
    "    return movies_df.sort_values(by=['score'], ascending=False)[['movie_title', 'movie_genre', 'score']][:n_recommendations]\n",
    "    \n",
    "print('Best 10 recommendations for ' + user + ':')   \n",
    "get_movie_recommendations(user_preferences, 10)"
   ]
  },
  {
   "cell_type": "code",
   "execution_count": null,
   "metadata": {},
   "outputs": [],
   "source": []
  }
 ]
}