{
 "cells": [
  {
   "cell_type": "code",
   "execution_count": 3,
   "metadata": {
    "pycharm": {
     "name": "#%%\n"
    }
   },
   "outputs": [],
   "source": [
    "import re\n",
    "import tweepy\n",
    "import pandas as pd\n",
    "from tweepy import OAuthHandler\n",
    "from textblob import TextBlob"
   ]
  },
  {
   "cell_type": "code",
   "execution_count": 5,
   "metadata": {
    "pycharm": {
     "name": "#%%\n"
    }
   },
   "outputs": [],
   "source": [
    "# keys and tokens from the Twitter Dev Console\n",
    "consumer_key = 'UPnncVfZPSqjZo5c8YeJEUrUz'\n",
    "consumer_secret = 'auB2RIDAhcXmZBxRXjR7YALD5lFCJHNabEjeywTN4Qju3PwmFG'\n",
    "access_token = '987462390-Xyaq4zPncj6SRz15JR9bdYlJQY6MKQUEcE8fCtRm'\n",
    "access_token_secret = 'SqwAKFbYA5337MqijRUnsUP6kQOnTOFlQ2zBMrRTlbUHc'\n",
    "\n",
    "# attempt authentication\n",
    "try:\n",
    "    # create OAuthHandler object\n",
    "    auth = OAuthHandler(consumer_key, consumer_secret)\n",
    "    # set access token and secret\n",
    "    auth.set_access_token(access_token, access_token_secret)\n",
    "    # create tweepy API object to fetch tweets\n",
    "    api = tweepy.API(auth)\n",
    "except:\n",
    "    print(\"Error: Authentication Failed\")"
   ]
  },
  {
   "cell_type": "code",
   "execution_count": 6,
   "metadata": {
    "pycharm": {
     "name": "#%%\n"
    }
   },
   "outputs": [],
   "source": [
    "def clean_tweet(tweet):\n",
    "    '''\n",
    "    Utility function to clean tweet text by removing links, special characters\n",
    "    using simple regex statements.\n",
    "    '''\n",
    "    return ' '.join(re.sub(\"(@[A-Za-z0-9]+)|([^0-9A-Za-z \\t])|(\\w+:\\/\\/\\S+)\", \" \", tweet).split())"
   ]
  },
  {
   "cell_type": "code",
   "execution_count": 7,
   "metadata": {
    "pycharm": {
     "name": "#%%\n"
    }
   },
   "outputs": [],
   "source": [
    "def get_tweet_sentiment(tweet):\n",
    "    '''\n",
    "    Utility function to classify sentiment of passed tweet\n",
    "    using textblob's sentiment method\n",
    "    '''\n",
    "    # create TextBlob object of passed tweet text\n",
    "    analysis = TextBlob(clean_tweet(tweet))\n",
    "    # set sentiment\n",
    "    if analysis.sentiment.polarity > 0:\n",
    "        return 'positive'\n",
    "    elif analysis.sentiment.polarity == 0:\n",
    "        return 'neutral'\n",
    "    else:\n",
    "        return 'negative'"
   ]
  },
  {
   "cell_type": "code",
   "execution_count": 8,
   "metadata": {
    "pycharm": {
     "name": "#%%\n"
    }
   },
   "outputs": [],
   "source": [
    "def get_tweets(username):\n",
    "    fetched_tweets = []\n",
    "    tweets = []\n",
    "\n",
    "    try:\n",
    "        # Get 100 last tweets of the indicated username\n",
    "        for status in tweepy.Cursor(api.user_timeline, screen_name=username, tweet_mode=\"extended\").items(100):\n",
    "            fetched_tweets.append(status)\n",
    "\n",
    "        # parsing tweets one by one\n",
    "        for tweet in fetched_tweets:\n",
    "            # empty dictionary to store required params of a tweet\n",
    "            parsed_tweet = {}\n",
    "\n",
    "            # saving text of tweet\n",
    "            parsed_tweet['text'] = tweet.full_text\n",
    "            # saving sentiment of tweet\n",
    "            parsed_tweet['sentiment'] = get_tweet_sentiment(tweet.full_text)\n",
    "\n",
    "            # appending parsed tweet to tweets list\n",
    "            if tweet.retweet_count > 0:\n",
    "                # if tweet has retweets, ensure that it is appended only once\n",
    "                if parsed_tweet not in tweets:\n",
    "                    tweets.append(parsed_tweet)\n",
    "            else:\n",
    "                tweets.append(parsed_tweet)\n",
    "\n",
    "        # return parsed tweets\n",
    "        return tweets\n",
    "    except tweepy.TweepError as e:\n",
    "        print(\"Whoops! Something went wrong here. The error code is \" + str(e) + username)\n",
    "        print(\"That account does not exist! Try again\")"
   ]
  },
  {
   "cell_type": "code",
   "execution_count": 11,
   "metadata": {
    "pycharm": {
     "name": "#%%\n"
    }
   },
   "outputs": [
    {
     "output_type": "stream",
     "name": "stdout",
     "text": [
      "\n\nPositive tweets percentage: 8.080808080808081 %\nNegative tweets percentage: 2.0202020202020203 %\nNeutral tweets percentage: 89.8989898989899 % \n\n\nPositive tweets:\n@harkonnen21 Para lo mínimo indispensable. Si eso puede funcionar sin impuestos, tampoco\n2º El PIB a coste de factores se divide en rentas salariales y en excedente bruto de explotación (EBE). Y no todo el EBE es renta gravable. En particular,hay dos partidas que no podemos considerar como renta gravable:el consumo de capital fijo y las rentas inmobiliarias imputadas\nOk https://t.co/qIlKVefRqS\n@lavadora810 Usted ha dicho que reflejar el coste de las carreteras hará que suban los precios. Y cobrar por el combustible o por la compra de un camión también? El precio de cualquier bien ha de reflejar su coste real y completo.\n@JRVB90 Por qué ligas eso con el liberalismo en general (y no con el caso específico de EEUU) si durante ese período terminó aboliéndose en Reino Unido?\n@Ismaelseijo16 @tfg27620 Y? Irrelevante para lo que estoy diciendo. Alguien que sea fruto del contexto social puede decidir vivir aislado del resto del mundo y, en tal caso, no tendría ni derechos ni obligaciones frente a nadie (no hay terceros)\n@Ismaelseijo16 @tfg27620 Una persona aislada no está, por definición, dentro de un contexto social en el que pueden existir derechos\n@Alezia11 @Victorgonrubia En general, partidario de cualquier desasociación política que no vulnere derechos individuales de terceros.\n\n\nNegative tweets:\n@IronPatticorti @StevenPinker8 @agpoycb @AnabelAlonso_of ¿Una coma entre sujeto y predicado? Siga arreglándolo\n@Ismaelseijo16 @tfg27620 Tenían derecho a la libertad frente a sus dueños. Estamos en un contexto social en el que su reclamación de no interferencia era vulnerada. Una persona aislada no puede ser esclavo ni tiene derecho de no interferencia frente a ningún tercero inexistente\n\n\nNeutral tweets:\n@HannahZavala91 Cae usted más bien en el queísmo. https://t.co/KXLUOsniGO\n@IronPatticorti @StevenPinker8 @agpoycb @AnabelAlonso_of Pero vamos, ahora te pones flexible con el lenguaje coloquial de Twitter y unos tuits más arriba me acusabas de haber citado fatal (cuando no era cita textual) y de que eso era del todo punto inadmisible en un licenciado. La ley del embudo, una vez más.\n@IronPatticorti @StevenPinker8 @agpoycb @AnabelAlonso_of El queísmo claro que es un error. Y respecto al último, te faltan como mínimo dos puntos.\nLe voy a reescribir correctamente su tuit para que aprenda a expresarse:\n\n“Mi equivocación es que pensé que Ud. sabía escribir. No me acuerdo DE que tengo que bajar a su nivel y esperar errores y faltas de expresión. Error total el mío AL pensar que hablaba con un licenciado.” https://t.co/QWiP9zOvVo https://t.co/Jk2BqCSw8W\n@IronPatticorti @StevenPinker8 @agpoycb @AnabelAlonso_of Le voy a reescribir correctamente su tuit para que aprenda a expresarse:\n\n“Mi equivocación es que pensé que Ud. sabía escribir. No me acuerdo DE que tengo que bajar a su nivel y esperar errores y faltas de expresión. Error total el mío AL pensar que hablaba con un licenciado.” https://t.co/6qRAovtni9\n@StevenPinker8 @IronPatticorti @agpoycb @AnabelAlonso_of Quien no quiere entender nunca va a entender.\n@IronPatticorti @StevenPinker8 @agpoycb @AnabelAlonso_of Al menos ya reconoce su equivocación y que, por tanto, toda su cadena de tuits en este hilo erraban completamente el tiro. Algo es algo. Descanse. Mañana será otro día.\n@IronPatticorti @StevenPinker8 @agpoycb @AnabelAlonso_of Te lo advertí desde el comienzo https://t.co/XhaXePPPck\n@IronPatticorti @StevenPinker8 @agpoycb @AnabelAlonso_of Veo que ya lo entendió (le costó, eh), pero en lugar de rectificar (eso le costaría todavía más, y ya es decir), huye hacia adelante\n@IronPatticorti @StevenPinker8 @agpoycb @AnabelAlonso_of Veo que ante la falta de comprensión lectora y contextual, te hace falta un dibujito. https://t.co/QC41NYvqfE\n@JMpointi Por qué? Las subvenciones son una forma de distribuir los ingresos. Y queremos medir qué parte de las rentas privadas es apropiado por el Estado\nApoya la continuidad de este canal en:\n- Patreon: https://t.co/eQo63V4HnP\n- Youtube: https://t.co/kc2jhpx3aA\n- Twitch: https://t.co/tMpNUlu4aZ\n- Paypal: https://t.co/nC2Y2JWsVd\n- Bitcoin: https://t.co/V1YzPpEuTm\nEn Podcast:\n\n- Apple: https://t.co/pcatXuMBEk\n- Spotify: https://t.co/qVSZllBCz9\n- Google: https://t.co/qsijtyi9k8\n- Spreaker: https://t.co/s4jDYgt2gj\n- Ivoox: https://t.co/KkgKyrpxRn\nEl Gobierno de PSOE-Podemos quiere implantar peajes en todas las carreteras de un único sentido. ¿Es una buena o una mala idea? https://t.co/CQ6IPQtDTV\n@JMpointi PIB a coste de factores es PIB a precios de mercado menos impuestos netos, que es como está calculado.\n@IronPatticorti @StevenPinker8 @agpoycb @AnabelAlonso_of “No lo ha sido para nada”. Ves? https://t.co/zl9eSKIZiZ\n@IronPatticorti @StevenPinker8 @agpoycb @AnabelAlonso_of Eso es lo que dice Anabel, que no lo fue. Lo dicho: te falta comprensión lectora\nRT @larazon_es: Por qué eliminar la reducción por tributación conjunta no es equitativo ➡ Videoblog de @juanrallo https://t.co/7vQtHq4yLZ h…\n@JMpointi Impuestos netos (Impuestos sobre producción menos subvenciones).\n@libersg211 Y en eso puede tener razón. Francia no me parece un ejemplo a seguir\n@David_Rguez7 @nsscloud Depende qué pretendas medir con el PIB. Si son rentas monetarias gravables sí. Si es valor agregado de la producción final, no\n@LibfsL Y que los transportistas tengan que pagar por sus camiones también lo incrementa. Los precios deben contener todos los costes reales de la producción.\n@libersg211 No, no los descuentan. Es estándar presentarlo como hace Bernardos. Y no critico tanto el dato, como las conclusiones forzadas que quieren extraerse de él.\n@nsscloud Siempre se calcula así. No digo que esté mal calculado, pero las conclusiones a las que llega Bernardos no se derivan de ese cálculo.\nPIB a coste de factores: 1.119.915 millones de euros.\n- Consumo de capital fijo: 191.571m\n- Rentas inmobiliarias imputadas: 80.000m (estimación a la baja)\n= Rentas del PIB realmente gravables: 842.883m.\nIngresos públicos 2019: 487.804 millones de euros\nIngresos/PIB gravable=57,8%\n4º Las rentas inmobiliarias IMPUTADAS son el equivalente al alquiler que nos ahorramos por vivir en casas de nuestra propiedad. No son ingresos monetarios pero sí suman en el PIB. Por tanto, también hay que restarlas. No hay dato de 2019, pero en 2018 fueron 85.140 millones\n3º El consumo de capital fijo es el equivalente a la amortización empresarial. Las empresas pagan impuestos sobre sus beneficios netos (después de amortización), no antes de ella. Por tanto, hay que restar el consumo de capital fijo: 191.571 millones de euros en 2019.\n1º El PIB a precios de mercado ya contabiliza los impuestos netos sobre la producción. Si yo vendo algo por 100 y 10 de esos 100 son impuestos, no he pagado 10 sobre 100 (10%), sino 10 sobre 90 (11,1%). Hay que tomar el PIB a coste de factores, que en 2019 fue de 1.119.915.\nPIB de 2019 a precios de mercado: 1.244.772 millones de euros.\nIngresos públicos 2019: 487.804 millones de euros\nIngresos/PIB=39,2%.\n\nSí, PERO hay varios errores en este cálculo. Hilo 👇 https://t.co/56bZiYUkcO\n@AnabelAlonso_of @IronPatticorti @StevenPinker8 @agpoycb Eso ya lo aclaraste. No iba por ti este último tuit.\n@lavadora810 \"Lo que es mala idea es establecer los peajes sin compensar a los ciudadanos mediante una rebaja de impuestos.\"\n@IronPatticorti @StevenPinker8 @agpoycb @AnabelAlonso_of Yo no digo nada porque no he opinado en este asunto. Es Anabel quien dice que no lo fue. Yo sólo repito sus palabras buscando coherencia entre sus tuits. Os falta comprensión lectora.\nRT @elconfidencial: \"Cuando la izquierda no recaba el apoyo electoral, rápidamente emerge desde algunos grupúsculos ese desprecio arrogante…\n@HortelanoLa Yo no voto. Deje de inventar\n@lavadora810 Sí, quiere que le regalen el coste de las carreteras\n@lavadora810 No. Si tu vendes las fotos más caras de lo que yo las valoro, no te las compraré. Eso significa que mi utilidad de las fotos no cubre todos los costes de producción de las mismas: no las valoro suficiente.\n@lavadora810 Así es. Y si le regalaran la cámara, podría bajar los precios. Pero obviamente si el gobierno regala cámaras a todo el mundo, tendríamos un despilfarro masivo porque gente que no valora lo suficiente las cámaras también las recibiría. Pues lo mismo con el uso de las carreteras\n@elzascas1 Su mantenimiento no\n@lavadora810 Si abaratas artificialmente un bien, tenderá a sobreconsumirse incluso por aquéllos que no lo valoren lo suficiente como para cubrir sus costes\n@lavadora810 No hablo de impuestos. Hablo de subvencionar el coste de la gasolina. O de la electricidad. O de todo. ¿Por qué no implantamos una política de costes cero y así tendremos precios cero?\n@lavadora810 Entonces también deberíamos declarar la gratuidad de la gasolina para que se abaraten los productos de las tiendas. No cree que algo falla en ese razonamiento?\n@GueinJohn Sí\n@turinfernandez No pondría a la Revolución Francesa como paradigma de respeto a las libertades (por aciertos importantes que tuviera)\nRT @emilio_lujan: @juanrallo Oye, mil gracias y enhorabuena por escribirlo. No sabía que esto existía. Ahora quiero más!\nUn saludo. https:/…\n@Anaranjadoanda1 \"Lo que es mala idea es establecer los peajes sin compensar a los ciudadanos mediante una rebaja de impuestos\"\n@David36933678 Pues o lo pagamos los consumidores o lo pagan los productores con menores márgenes.\n@tuposverdad Basta con modular el peaje en función del vehículo.\n@Cadadiaqueaman1 @CayetanoSupremo No añada la cláusula de responsabilidad patrimonial de la administración, y listo. https://t.co/uys8oiVm55\n@gebelque Sí, sí. Es un debate más amplio. Pero entiendo que, en parte, es por lo que protestan muchas personas: porque sienten que su carga tributaria (en sentido amplio) va aumentando.\n@rasputin_es El espionaje parapolicial es uno de los escándalos (de los que conocemos) más graves de los últimos años en cuanto al uso abusivo del aparato estatal.\n@gebelque Si, eso es cierto. Pasivos implícitos. Pero entonces también cabe defender que se recorten otros gastos para hacer frente a los mismos (introduciendo un peaje que permita bajar impuestos generlaes).\n@marcosgonfer Idealmente el IRPF en su tramo más bajo. Mayor renta disponible y escoger cómo la usas (circulando o no circulando)\n@Cadadiaqueaman1 @CayetanoSupremo Entonces el problema es que es un monopolio. Plantee la liberalización de las infraestructuras para que aumente la oferta\n@marcosgonfer Que se pague en función del uso y no del no uso.\n@pablobenidorm \"Lo que es mala idea es establecer los peajes sin compensar a los ciudadanos mediante una rebaja de impuestos.\"\nRT @juanrallo: @AnabelAlonso_of Entonces habrá sido una feliz coincidencia que el neologismo se acuñara dos días después de ese 4-M que en…\n@AnabelAlonso_of Entonces habrá sido una feliz coincidencia que el neologismo se acuñara dos días después de ese 4-M que en absoluto fue una equivotación.\n@CayetanoSupremo Como en el supermercado.\nLa equivotación fue un triunfo. https://t.co/Alw9VR3qXt https://t.co/rRps5zihKM\n@dvdgllnv Sí (con ayudas subsidiarias para quienes no puedan)\n@Napalism Un coche híbrido no desgasta apenas?\n@danielortizguer @JaimeBN1987 @Napalism Ya he dicho que la mala idea es no bajar impuestos\n@JuanRamonDC_ Vincular coste a uso.\n@Napalism Mejor peaje. El impuesto lo pagas circules o no. Los hidrocarburos se consumen para circular o puede circularse con distintos grados de consumo de hidrocarburos.\nLo de los peajes no es mala idea. Lo que es mala idea es establecer los peajes sin compensar a los ciudadanos mediante una rebaja de impuestos.\n@Magno_en_Madrid Soy partidario a la progresiva erradicación de las patentes. De manera repentina y sin claros beneficios (pues el problema de falta de oferta no viene solo ni mayoritariamente de las patentes) no lo veo claro\n@agustinlopezz En breve estará\nRepasamos, y criticamos, las muchas descalificaciones que sectores de la izquierda han dirigido a los obreros que han votado a la derecha en las recientes elecciones madrileñas. https://t.co/ZCAUtcwfmx\n@Absalom421 Las puertas giratorias se solventan reduciendo el poder del Estado para repartir favores. Ahí estaremos plenamente a favor porque, en efecto, la connivencia público-privada es una forma de corrupción\n@JRVB90 No les salía rentable en Reino Unido y en EEUU sí? No había liberales abolicionistas en EEUU (Spooner)?\n@Absalom421 @JRVB90 @Ismaelseijo16 @tfg27620 No hay argumentos de peso para que no lo abarque. Quizá en el futuro otros tengan un debate similar con respecto al trato jurídico que reciben hoy los animales (especismo). Lo fundamental es que el liberalismo es perfectamente compatible con esa estructura de derechos\n@JRVB90 Vamos, que equiparas a un obrero con un esclavo. Lo mismo me vendes que el desarrollo del liberalismo (económicamente capitalista) promueve la esclavitud como que la hace innecesaria por proletarización. Incoherencias de raíz\n@Absalom421 @JRVB90 @Ismaelseijo16 @tfg27620 Si tu concepción de sujeto de derecho abarca a toda la especie humana, desde luego que sí\n@Absalom421 @JRVB90 @Ismaelseijo16 @tfg27620 No, ha habido liberales para todo. Lo que no tiene sentido es decir que el liberalismo es o ha sido inherentemente esclavista.\n@Absalom421 @JRVB90 @Ismaelseijo16 @tfg27620 No. Yo es no metí originalmente al Estado en este debate salvo cuando usted me quiso vender que fue quien salvó a EEUU de la esclavitud.\nMás impuestos que afectarán especialmente a los ricos. Si es que PSOE y Podemos tenían toda la razón: ¿no veis como el Estado puede aumentar mucho la recaudación sólo a costa de los que más tienen? https://t.co/V3nhSSmA6P\n@Absalom421 @JRVB90 @Ismaelseijo16 @tfg27620 Es decir, que cuando el Estado protege la esclavitud es porque defendía la propiedad privada (liberalismo malo); cuando el Estado abroga la esclavitud es porque se enfrenta a la propiedad privada (Estado bueno).\n@JRVB90 Aumentó respecto a cuándo? En Roma había liberalismo?\n@Absalom421 @JRVB90 @Ismaelseijo16 @tfg27620 El poder del Estado también contribuyó hasta ese momento a proteger la esclavitud. Por ejemplo: https://t.co/JG8KnTBCzW\n@JRVB90 @Ismaelseijo16 @tfg27620 Y Lysander Spooner abanderó el movimiento abolicionista en EEUU. Deje las simplezas a un lado\n@Ismaelseijo16 @tfg27620 Claro que puede decidir vivir en aislado (aunque sean casos límites) y si lo decidiera no habría derechos ni obligaciones hacia terceros inexistentes.\n@Ismaelseijo16 @tfg27620 No es que no tenga mecanismos de reclamación. Es que por definición nadie está obligado frente a él (porque no hay nadie). Y sin obligaciones no existen derechos\n@Ismaelseijo16 @tfg27620 No, no hablo de garantías. Un derecho es algo que uno puede reclamarle a otro. Eso es independiente de si la reclamación es vulnerada o no. Pero si solo hay una persona, no hay nadie a quien reclamarle nada por definición\n@SrtaDakarta81 Yo soy descentralizador (incluso “separatista”) desde mucho antes de que supiera quién es Ayuso.\n@Ismaelseijo16 @tfg27620 Si defines los derechos solo como necesidades, ¿no existen las necesidades en aislado? Claro que sí. Por tanto, los derechos no pueden ser sólo necesidades. Son potestades de reclamación frente a terceros. Lo dije desde el comienzo.Tu definición o es robinsoniana o es incoherente\n@Ismaelseijo16 @tfg27620 Eres tú el que dice que derechos son necesidades. Una persona aislada no tiene necesidades? Si las tiene, tiene derechos? Frente a quién? Yo no compro la tesis de que el derecho exista en aislado: derecho es relación intersubjetiva\n@Alezia11 @SUKGGZ @Victorgonrubia Insuficiente descentralización.\n@leonesista89 @Victorgonrubia Por qué solo Madrid?\n@Ismaelseijo16 @tfg27620 De dónde sacas la definición de que \"derecho=necesidad\"? Una persona necesitada en medio del desierto, ¿tiene derechos? ¿Frente a quién?\n"
     ]
    }
   ],
   "source": [
    "tweets = None\n",
    "\n",
    "while tweets is None:\n",
    "    username = input(\"Please, enter your twitter username: \")\n",
    "    tweets = get_tweets(username)\n",
    "\n",
    "# picking positive tweets from tweets\n",
    "ptweets = [tweet for tweet in tweets if tweet['sentiment'] == 'positive']\n",
    "# percentage of positive tweets\n",
    "print(\"\\n\\nPositive tweets percentage: {} %\".format(100*len(ptweets)/len(tweets)))\n",
    "\n",
    "# picking negative tweets from tweets\n",
    "ntweets = [tweet for tweet in tweets if tweet['sentiment'] == 'negative']\n",
    "\n",
    "# percentage of negative tweets\n",
    "print(\"Negative tweets percentage: {} %\".format(100*len(ntweets)/len(tweets)))\n",
    "\n",
    "# picking neutral tweets from tweets\n",
    "neutral_tweets = [tweet for tweet in tweets if tweet['sentiment'] == 'neutral']\n",
    "\n",
    "# percentage of neutral tweets\n",
    "print(\"Neutral tweets percentage: {} % \".format(100*len(neutral_tweets)/len(tweets)))\n",
    "\n",
    "# printing positive tweets\n",
    "print(\"\\n\\nPositive tweets:\")\n",
    "for tweet in ptweets:\n",
    "    print(tweet['text'])\n",
    "\n",
    "\n",
    "# printing negative tweets\n",
    "print(\"\\n\\nNegative tweets:\")\n",
    "for tweet in ntweets:\n",
    "    print(tweet['text'])\n",
    "\n",
    "# printing neutral tweets\n",
    "print(\"\\n\\nNeutral tweets:\")\n",
    "for tweet in neutral_tweets:\n",
    "    print(tweet['text'])"
   ]
  },
  {
   "cell_type": "code",
   "execution_count": 10,
   "metadata": {},
   "outputs": [],
   "source": [
    "# save information in a dataset\n",
    "user = api.get_user(username)\n",
    "user_id = user.id_str\n",
    "\n",
    "# assign genres by sentiment\n",
    "genres_by_sentiment = {\"positive\": [\"Comedy\", \"Adventure\"], \"negative\": [\"Drama\", \"Romance\"], \"neutral\": [\"Sci-Fi\", \"Action\", \"Animation\", \"Family\", \"Fantasy\", \"Musical\", \"Thriller\", \"War\", \"Western\", \"Crime\", \"Superhero\"]}\n",
    "\n",
    "status = 'neutral'\n",
    "if(len(neutral_tweets) <= len(ptweets) and len(neutral_tweets) <= len(ntweets)):\n",
    "    if(len(ptweets) >= len(ntweets)):\n",
    "        status = 'positive'\n",
    "    else:\n",
    "        status = 'negative'\n",
    "\n",
    "diccionario = {'user_id': [user_id], 'user_name': [username], 'status': [status], 'genres': [genres_by_sentiment[status]]}\n",
    "\n",
    "df_user = pd.DataFrame(diccionario)\n",
    "\n",
    "df_user.to_csv('userSentiment.csv', header=False, index=False)"
   ]
  },
  {
   "cell_type": "code",
   "execution_count": null,
   "metadata": {},
   "outputs": [],
   "source": []
  }
 ],
 "metadata": {
  "kernelspec": {
   "name": "python383jvsc74a57bd0fec86042567a2cc61725b797b4a1d1b1931e2d53dc8382f7c69e48cc2183c59d",
   "display_name": "Python 3.8.3 64-bit (conda)"
  },
  "language_info": {
   "codemirror_mode": {
    "name": "ipython",
    "version": 3
   },
   "file_extension": ".py",
   "mimetype": "text/x-python",
   "name": "python",
   "nbconvert_exporter": "python",
   "pygments_lexer": "ipython3",
   "version": "3.8.3"
  }
 },
 "nbformat": 4,
 "nbformat_minor": 1
}